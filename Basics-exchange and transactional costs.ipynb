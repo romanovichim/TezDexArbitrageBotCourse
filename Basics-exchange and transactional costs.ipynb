{
  "nbformat": 4,
  "nbformat_minor": 0,
  "metadata": {
    "colab": {
      "name": "call the contract and look at the transactional fee.ipynb",
      "provenance": []
    },
    "kernelspec": {
      "name": "python3",
      "display_name": "Python 3"
    },
    "language_info": {
      "name": "python"
    }
  },
  "cells": [
    {
      "cell_type": "markdown",
      "source": [
        "# **Let's call the contract and look at the gas**\n",
        "In this lesson you will learn:\n",
        "- how to work with contract in testnet\n",
        "- how to transfer tezos \n",
        "- how to calculate transactional fees"
      ],
      "metadata": {
        "id": "-y1v6Pz7XO9z"
      }
    },
    {
      "cell_type": "markdown",
      "source": [
        "Let's connect to the test network using pytezos"
      ],
      "metadata": {
        "id": "2_klKYbSXo-p"
      }
    },
    {
      "cell_type": "code",
      "execution_count": null,
      "metadata": {
        "id": "BMeCpKeYW1Jn"
      },
      "outputs": [],
      "source": [
        "%%capture\n",
        "## %%capture is a Colab built-in function to suppress the output of that particular cell whether it uses a command-line code or some python code\n",
        "\n",
        "## Pytezos dependencies\n",
        "!apt install libsodium-dev libsecp256k1-dev libgmp-dev\n",
        "!pip install pytezos"
      ]
    },
    {
      "cell_type": "code",
      "source": [
        "from pytezos import pytezos\n",
        "\n",
        "#List of testnets https://teztnets.xyz/"
      ],
      "metadata": {
        "id": "NLkmJN9nX0_a"
      },
      "execution_count": null,
      "outputs": []
    },
    {
      "cell_type": "markdown",
      "source": [
        "Test accounts in the blockchain are called Faucet accounts. To use a test account in the test network of our choice, download the key from here:\n",
        "https://teztnets.xyz/hangzhounet-faucet\n"
      ],
      "metadata": {
        "id": "nXjjjGAVYg5I"
      }
    },
    {
      "cell_type": "markdown",
      "source": [
        "Download your key and upload it to google colab(click Folder on the right side of the current windows)"
      ],
      "metadata": {
        "id": "e_AASl-7djTt"
      }
    },
    {
      "cell_type": "code",
      "source": [
        "pytezos = pytezos.using(shell=\"https://rpc.hangzhounet.teztnets.xyz\", key=\"hangzhounet_test.json\")\n"
      ],
      "metadata": {
        "id": "Q7HWJAYYYgGH"
      },
      "execution_count": null,
      "outputs": []
    },
    {
      "cell_type": "markdown",
      "source": [
        "## Task1 \n",
        "\n",
        "Download your activation key and connect it "
      ],
      "metadata": {
        "id": "eC03NPoKeIbs"
      }
    },
    {
      "cell_type": "code",
      "source": [
        "pytezos.activate_account"
      ],
      "metadata": {
        "colab": {
          "base_uri": "https://localhost:8080/"
        },
        "id": "dIncI_GCgnUa",
        "outputId": "1af6180a-ad9e-4559-ea3d-3c6b6a8dbf08"
      },
      "execution_count": null,
      "outputs": [
        {
          "output_type": "execute_result",
          "data": {
            "text/plain": [
              "<function ContentMixin.activate_account at 0x7f1ef9df99e0>\n",
              "Activate recommended allocations for contributions to the TF fundraiser.\n",
              "\n",
              "More info https://activate.tezos.com/\n",
              "\n",
              ":param activation_code: Secret code from pdf, leave empty for autocomplete\n",
              ":param pkh: Public key hash, leave empty for autocomplete\n",
              ":returns: dict or OperationGroup"
            ]
          },
          "metadata": {},
          "execution_count": 12
        }
      ]
    },
    {
      "cell_type": "markdown",
      "source": [
        "\n",
        "Let's simulate the operation using **autofill**, also it will  sets precise values for fee and gas/storage limits."
      ],
      "metadata": {
        "id": "TrjWjbd1ixSI"
      }
    },
    {
      "cell_type": "code",
      "source": [
        "pytezos.activate_account().autofill()"
      ],
      "metadata": {
        "colab": {
          "base_uri": "https://localhost:8080/"
        },
        "id": "lP3ig8o_kaeG",
        "outputId": "1c0f690d-bf0b-41c2-f1b6-18b3db9fe737"
      },
      "execution_count": null,
      "outputs": [
        {
          "output_type": "execute_result",
          "data": {
            "text/plain": [
              "<pytezos.operation.group.OperationGroup object at 0x7f1ef9bcd1d0>\n",
              "\n",
              "Properties\n",
              ".key\t\ttz1Vkye7xxrzE8wT7fSFQhSeFZ3YyGykbGmG\n",
              ".shell\t\t['https://rpc.hangzhounet.teztnets.xyz']\n",
              ".block_id\thead\n",
              "\n",
              "Payload\n",
              "{'branch': 'BM7NWJFVFwwjdc2z8FD48QebpLpRLFMGyTTFX1a8FrFtBQFnqNY',\n",
              " 'contents': [{'kind': 'activate_account',\n",
              "               'pkh': 'tz1Vkye7xxrzE8wT7fSFQhSeFZ3YyGykbGmG',\n",
              "               'secret': '488e8ee583126d716548fbd103bb3b4ebdbcbe70'}],\n",
              " 'protocol': 'PtHangz2aRngywmSRGGvrcTyMbbdpWdpFKuS4uMWxg2RaH9i1qx',\n",
              " 'signature': None}\n",
              "\n",
              "Helpers\n",
              ".activate_account()\n",
              ".autofill()\n",
              ".ballot()\n",
              ".binary_payload()\n",
              ".delegation()\n",
              ".double_baking_evidence()\n",
              ".double_endorsement_evidence()\n",
              ".endorsement()\n",
              ".endorsement_with_slot()\n",
              ".failing_noop()\n",
              ".fill()\n",
              ".forge()\n",
              ".hash()\n",
              ".inject()\n",
              ".json_payload()\n",
              ".message()\n",
              ".operation()\n",
              ".origination()\n",
              ".preapply()\n",
              ".proposals()\n",
              ".register_global_constant()\n",
              ".result()\n",
              ".reveal()\n",
              ".run()\n",
              ".run_operation()\n",
              ".seed_nonce_revelation()\n",
              ".send()\n",
              ".send_async()\n",
              ".sign()\n",
              ".transaction()\n",
              ".with_slot()"
            ]
          },
          "metadata": {},
          "execution_count": 13
        }
      ]
    },
    {
      "cell_type": "markdown",
      "source": [
        "In pytezos we can easily chain operations, since we already made autofill lets sign the operatrion using **sign** and after inject it using.... yes you guessed it right **inject**"
      ],
      "metadata": {
        "id": "c0-PWyhDke0_"
      }
    },
    {
      "cell_type": "code",
      "source": [
        "pytezos.activate_account().fill().sign().inject()"
      ],
      "metadata": {
        "colab": {
          "base_uri": "https://localhost:8080/"
        },
        "id": "32tntJfHkfXX",
        "outputId": "dc205ec3-c602-4654-8c80-57a873810eba"
      },
      "execution_count": null,
      "outputs": [
        {
          "output_type": "execute_result",
          "data": {
            "text/plain": [
              "{'branch': 'BMANziJyfT8s4pvEj35gzVk2jNFpFNsHhp98u7uwqKibMhzWjpu',\n",
              " 'chain_id': 'NetXZSsxBpMQeAT',\n",
              " 'contents': [{'kind': 'activate_account',\n",
              "   'pkh': 'tz1Vkye7xxrzE8wT7fSFQhSeFZ3YyGykbGmG',\n",
              "   'secret': '488e8ee583126d716548fbd103bb3b4ebdbcbe70'}],\n",
              " 'hash': 'op1Ud4Aeg2zWc1Zw5ZQwjWudwq2tWymujKFtAGG9U9uSdorvbia',\n",
              " 'protocol': 'PtHangz2aRngywmSRGGvrcTyMbbdpWdpFKuS4uMWxg2RaH9i1qx',\n",
              " 'signature': 'sigScocgvmDtrQ6GHB3X2hg1Znd3zQEfpyV8H4ji997RroAhnJQ5LWxKrW3HjRsrxkBgdi96nC8zecUsa9nPav78kv6aRA3x'}"
            ]
          },
          "metadata": {},
          "execution_count": 17
        }
      ]
    },
    {
      "cell_type": "code",
      "source": [
        "#pytezos.reveal().autofill().sign().inject()"
      ],
      "metadata": {
        "colab": {
          "base_uri": "https://localhost:8080/",
          "height": 346
        },
        "id": "L8tuOx4TD5sM",
        "outputId": "5845c1ac-fae4-46e1-9e35-829a53519279"
      },
      "execution_count": null,
      "outputs": [
        {
          "output_type": "error",
          "ename": "RpcError",
          "evalue": "ignored",
          "traceback": [
            "\u001b[0;31m---------------------------------------------------------------------------\u001b[0m",
            "\u001b[0;31mRpcError\u001b[0m                                  Traceback (most recent call last)",
            "\u001b[0;32m<ipython-input-16-2e144b3d0d20>\u001b[0m in \u001b[0;36m<module>\u001b[0;34m()\u001b[0m\n\u001b[0;32m----> 1\u001b[0;31m \u001b[0mpytezos\u001b[0m\u001b[0;34m.\u001b[0m\u001b[0mreveal\u001b[0m\u001b[0;34m(\u001b[0m\u001b[0;34m)\u001b[0m\u001b[0;34m.\u001b[0m\u001b[0mautofill\u001b[0m\u001b[0;34m(\u001b[0m\u001b[0;34m)\u001b[0m\u001b[0;34m.\u001b[0m\u001b[0msign\u001b[0m\u001b[0;34m(\u001b[0m\u001b[0;34m)\u001b[0m\u001b[0;34m.\u001b[0m\u001b[0minject\u001b[0m\u001b[0;34m(\u001b[0m\u001b[0;34m)\u001b[0m\u001b[0;34m\u001b[0m\u001b[0;34m\u001b[0m\u001b[0m\n\u001b[0m",
            "\u001b[0;32m/usr/local/lib/python3.7/dist-packages/pytezos/jupyter.py\u001b[0m in \u001b[0;36m__call__\u001b[0;34m(self, *args, **kwargs)\u001b[0m\n\u001b[1;32m     87\u001b[0m                         \u001b[0;32mreturn\u001b[0m \u001b[0mmethod\u001b[0m\u001b[0;34m(\u001b[0m\u001b[0;34m*\u001b[0m\u001b[0margs\u001b[0m\u001b[0;34m,\u001b[0m \u001b[0;34m**\u001b[0m\u001b[0mkwargs\u001b[0m\u001b[0;34m)\u001b[0m\u001b[0;34m\u001b[0m\u001b[0;34m\u001b[0m\u001b[0m\n\u001b[1;32m     88\u001b[0m                     \u001b[0;32melse\u001b[0m\u001b[0;34m:\u001b[0m\u001b[0;34m\u001b[0m\u001b[0;34m\u001b[0m\u001b[0m\n\u001b[0;32m---> 89\u001b[0;31m                         \u001b[0;32mreturn\u001b[0m \u001b[0mmethod\u001b[0m\u001b[0;34m(\u001b[0m\u001b[0mself\u001b[0m\u001b[0;34m.\u001b[0m\u001b[0mobj\u001b[0m\u001b[0;34m,\u001b[0m \u001b[0;34m*\u001b[0m\u001b[0margs\u001b[0m\u001b[0;34m,\u001b[0m \u001b[0;34m**\u001b[0m\u001b[0mkwargs\u001b[0m\u001b[0;34m)\u001b[0m\u001b[0;34m\u001b[0m\u001b[0;34m\u001b[0m\u001b[0m\n\u001b[0m\u001b[1;32m     90\u001b[0m \u001b[0;34m\u001b[0m\u001b[0m\n\u001b[1;32m     91\u001b[0m                 \u001b[0;32mdef\u001b[0m \u001b[0m__repr__\u001b[0m\u001b[0;34m(\u001b[0m\u001b[0mself\u001b[0m\u001b[0;34m)\u001b[0m\u001b[0;34m:\u001b[0m\u001b[0;34m\u001b[0m\u001b[0;34m\u001b[0m\u001b[0m\n",
            "\u001b[0;32m/usr/local/lib/python3.7/dist-packages/pytezos/operation/group.py\u001b[0m in \u001b[0;36mautofill\u001b[0;34m(self, gas_reserve, burn_reserve, counter, ttl, fee, gas_limit, storage_limit, **kwargs)\u001b[0m\n\u001b[1;32m    235\u001b[0m \u001b[0;34m\u001b[0m\u001b[0m\n\u001b[1;32m    236\u001b[0m         \u001b[0mopg\u001b[0m \u001b[0;34m=\u001b[0m \u001b[0mself\u001b[0m\u001b[0;34m.\u001b[0m\u001b[0mfill\u001b[0m\u001b[0;34m(\u001b[0m\u001b[0mcounter\u001b[0m\u001b[0;34m=\u001b[0m\u001b[0mcounter\u001b[0m\u001b[0;34m,\u001b[0m \u001b[0mttl\u001b[0m\u001b[0;34m=\u001b[0m\u001b[0mttl\u001b[0m\u001b[0;34m)\u001b[0m\u001b[0;34m\u001b[0m\u001b[0;34m\u001b[0m\u001b[0m\n\u001b[0;32m--> 237\u001b[0;31m         \u001b[0mopg_with_metadata\u001b[0m \u001b[0;34m=\u001b[0m \u001b[0mopg\u001b[0m\u001b[0;34m.\u001b[0m\u001b[0mrun\u001b[0m\u001b[0;34m(\u001b[0m\u001b[0;34m)\u001b[0m\u001b[0;34m\u001b[0m\u001b[0;34m\u001b[0m\u001b[0m\n\u001b[0m\u001b[1;32m    238\u001b[0m         \u001b[0;32mif\u001b[0m \u001b[0;32mnot\u001b[0m \u001b[0mOperationResult\u001b[0m\u001b[0;34m.\u001b[0m\u001b[0mis_applied\u001b[0m\u001b[0;34m(\u001b[0m\u001b[0mopg_with_metadata\u001b[0m\u001b[0;34m)\u001b[0m\u001b[0;34m:\u001b[0m\u001b[0;34m\u001b[0m\u001b[0;34m\u001b[0m\u001b[0m\n\u001b[1;32m    239\u001b[0m             \u001b[0;32mraise\u001b[0m \u001b[0mRpcError\u001b[0m\u001b[0;34m.\u001b[0m\u001b[0mfrom_errors\u001b[0m\u001b[0;34m(\u001b[0m\u001b[0mOperationResult\u001b[0m\u001b[0;34m.\u001b[0m\u001b[0merrors\u001b[0m\u001b[0;34m(\u001b[0m\u001b[0mopg_with_metadata\u001b[0m\u001b[0;34m)\u001b[0m\u001b[0;34m)\u001b[0m\u001b[0;34m\u001b[0m\u001b[0;34m\u001b[0m\u001b[0m\n",
            "\u001b[0;32m/usr/local/lib/python3.7/dist-packages/pytezos/jupyter.py\u001b[0m in \u001b[0;36m__call__\u001b[0;34m(self, *args, **kwargs)\u001b[0m\n\u001b[1;32m     87\u001b[0m                         \u001b[0;32mreturn\u001b[0m \u001b[0mmethod\u001b[0m\u001b[0;34m(\u001b[0m\u001b[0;34m*\u001b[0m\u001b[0margs\u001b[0m\u001b[0;34m,\u001b[0m \u001b[0;34m**\u001b[0m\u001b[0mkwargs\u001b[0m\u001b[0;34m)\u001b[0m\u001b[0;34m\u001b[0m\u001b[0;34m\u001b[0m\u001b[0m\n\u001b[1;32m     88\u001b[0m                     \u001b[0;32melse\u001b[0m\u001b[0;34m:\u001b[0m\u001b[0;34m\u001b[0m\u001b[0;34m\u001b[0m\u001b[0m\n\u001b[0;32m---> 89\u001b[0;31m                         \u001b[0;32mreturn\u001b[0m \u001b[0mmethod\u001b[0m\u001b[0;34m(\u001b[0m\u001b[0mself\u001b[0m\u001b[0;34m.\u001b[0m\u001b[0mobj\u001b[0m\u001b[0;34m,\u001b[0m \u001b[0;34m*\u001b[0m\u001b[0margs\u001b[0m\u001b[0;34m,\u001b[0m \u001b[0;34m**\u001b[0m\u001b[0mkwargs\u001b[0m\u001b[0;34m)\u001b[0m\u001b[0;34m\u001b[0m\u001b[0;34m\u001b[0m\u001b[0m\n\u001b[0m\u001b[1;32m     90\u001b[0m \u001b[0;34m\u001b[0m\u001b[0m\n\u001b[1;32m     91\u001b[0m                 \u001b[0;32mdef\u001b[0m \u001b[0m__repr__\u001b[0m\u001b[0;34m(\u001b[0m\u001b[0mself\u001b[0m\u001b[0;34m)\u001b[0m\u001b[0;34m:\u001b[0m\u001b[0;34m\u001b[0m\u001b[0;34m\u001b[0m\u001b[0m\n",
            "\u001b[0;32m/usr/local/lib/python3.7/dist-packages/pytezos/operation/group.py\u001b[0m in \u001b[0;36mrun\u001b[0;34m(self, block_id)\u001b[0m\n\u001b[1;32m    171\u001b[0m                     \u001b[0;34m'signature'\u001b[0m\u001b[0;34m:\u001b[0m \u001b[0mbase58_encode\u001b[0m\u001b[0;34m(\u001b[0m\u001b[0;34mb'0'\u001b[0m \u001b[0;34m*\u001b[0m \u001b[0;36m64\u001b[0m\u001b[0;34m,\u001b[0m \u001b[0;34mb'sig'\u001b[0m\u001b[0;34m)\u001b[0m\u001b[0;34m.\u001b[0m\u001b[0mdecode\u001b[0m\u001b[0;34m(\u001b[0m\u001b[0;34m)\u001b[0m\u001b[0;34m,\u001b[0m\u001b[0;34m\u001b[0m\u001b[0;34m\u001b[0m\u001b[0m\n\u001b[1;32m    172\u001b[0m                 },\n\u001b[0;32m--> 173\u001b[0;31m                 \u001b[0;34m'chain_id'\u001b[0m\u001b[0;34m:\u001b[0m \u001b[0mself\u001b[0m\u001b[0;34m.\u001b[0m\u001b[0mchain_id\u001b[0m\u001b[0;34m,\u001b[0m\u001b[0;34m\u001b[0m\u001b[0;34m\u001b[0m\u001b[0m\n\u001b[0m\u001b[1;32m    174\u001b[0m             }\n\u001b[1;32m    175\u001b[0m         )\n",
            "\u001b[0;32m/usr/local/lib/python3.7/dist-packages/pytezos/jupyter.py\u001b[0m in \u001b[0;36m__call__\u001b[0;34m(self, *args, **kwargs)\u001b[0m\n\u001b[1;32m     87\u001b[0m                         \u001b[0;32mreturn\u001b[0m \u001b[0mmethod\u001b[0m\u001b[0;34m(\u001b[0m\u001b[0;34m*\u001b[0m\u001b[0margs\u001b[0m\u001b[0;34m,\u001b[0m \u001b[0;34m**\u001b[0m\u001b[0mkwargs\u001b[0m\u001b[0;34m)\u001b[0m\u001b[0;34m\u001b[0m\u001b[0;34m\u001b[0m\u001b[0m\n\u001b[1;32m     88\u001b[0m                     \u001b[0;32melse\u001b[0m\u001b[0;34m:\u001b[0m\u001b[0;34m\u001b[0m\u001b[0;34m\u001b[0m\u001b[0m\n\u001b[0;32m---> 89\u001b[0;31m                         \u001b[0;32mreturn\u001b[0m \u001b[0mmethod\u001b[0m\u001b[0;34m(\u001b[0m\u001b[0mself\u001b[0m\u001b[0;34m.\u001b[0m\u001b[0mobj\u001b[0m\u001b[0;34m,\u001b[0m \u001b[0;34m*\u001b[0m\u001b[0margs\u001b[0m\u001b[0;34m,\u001b[0m \u001b[0;34m**\u001b[0m\u001b[0mkwargs\u001b[0m\u001b[0;34m)\u001b[0m\u001b[0;34m\u001b[0m\u001b[0;34m\u001b[0m\u001b[0m\n\u001b[0m\u001b[1;32m     90\u001b[0m \u001b[0;34m\u001b[0m\u001b[0m\n\u001b[1;32m     91\u001b[0m                 \u001b[0;32mdef\u001b[0m \u001b[0m__repr__\u001b[0m\u001b[0;34m(\u001b[0m\u001b[0mself\u001b[0m\u001b[0;34m)\u001b[0m\u001b[0;34m:\u001b[0m\u001b[0;34m\u001b[0m\u001b[0;34m\u001b[0m\u001b[0m\n",
            "\u001b[0;32m/usr/local/lib/python3.7/dist-packages/pytezos/rpc/helpers.py\u001b[0m in \u001b[0;36mpost\u001b[0;34m(self, operation)\u001b[0m\n\u001b[1;32m    287\u001b[0m         \u001b[0;34m:\u001b[0m\u001b[0mreturns\u001b[0m\u001b[0;34m:\u001b[0m \u001b[0mJSON\u001b[0m \u001b[0mobject\u001b[0m \u001b[0;34m(\u001b[0m\u001b[0moperation\u001b[0m \u001b[0;32mwith\u001b[0m \u001b[0mmetadata\u001b[0m\u001b[0;34m)\u001b[0m\u001b[0;34m\u001b[0m\u001b[0;34m\u001b[0m\u001b[0m\n\u001b[1;32m    288\u001b[0m         \"\"\"\n\u001b[0;32m--> 289\u001b[0;31m         \u001b[0;32mreturn\u001b[0m \u001b[0mself\u001b[0m\u001b[0;34m.\u001b[0m\u001b[0m_post\u001b[0m\u001b[0;34m(\u001b[0m\u001b[0mjson\u001b[0m\u001b[0;34m=\u001b[0m\u001b[0moperation\u001b[0m\u001b[0;34m)\u001b[0m\u001b[0;34m\u001b[0m\u001b[0;34m\u001b[0m\u001b[0m\n\u001b[0m\u001b[1;32m    290\u001b[0m \u001b[0;34m\u001b[0m\u001b[0m\n\u001b[1;32m    291\u001b[0m \u001b[0;34m\u001b[0m\u001b[0m\n",
            "\u001b[0;32m/usr/local/lib/python3.7/dist-packages/pytezos/rpc/query.py\u001b[0m in \u001b[0;36m_post\u001b[0;34m(self, json, params)\u001b[0m\n\u001b[1;32m    133\u001b[0m             \u001b[0mpath\u001b[0m\u001b[0;34m=\u001b[0m\u001b[0mself\u001b[0m\u001b[0;34m.\u001b[0m\u001b[0mpath\u001b[0m\u001b[0;34m,\u001b[0m\u001b[0;34m\u001b[0m\u001b[0;34m\u001b[0m\u001b[0m\n\u001b[1;32m    134\u001b[0m             \u001b[0mparams\u001b[0m\u001b[0;34m=\u001b[0m\u001b[0mparams\u001b[0m\u001b[0;34m,\u001b[0m\u001b[0;34m\u001b[0m\u001b[0;34m\u001b[0m\u001b[0m\n\u001b[0;32m--> 135\u001b[0;31m             \u001b[0mjson\u001b[0m\u001b[0;34m=\u001b[0m\u001b[0mjson\u001b[0m\u001b[0;34m\u001b[0m\u001b[0;34m\u001b[0m\u001b[0m\n\u001b[0m\u001b[1;32m    136\u001b[0m         )\n\u001b[1;32m    137\u001b[0m \u001b[0;34m\u001b[0m\u001b[0m\n",
            "\u001b[0;32m/usr/local/lib/python3.7/dist-packages/pytezos/rpc/node.py\u001b[0m in \u001b[0;36mpost\u001b[0;34m(self, path, params, json)\u001b[0m\n\u001b[1;32m    122\u001b[0m \u001b[0;34m\u001b[0m\u001b[0m\n\u001b[1;32m    123\u001b[0m     \u001b[0;32mdef\u001b[0m \u001b[0mpost\u001b[0m\u001b[0;34m(\u001b[0m\u001b[0mself\u001b[0m\u001b[0;34m,\u001b[0m \u001b[0mpath\u001b[0m\u001b[0;34m:\u001b[0m \u001b[0mstr\u001b[0m\u001b[0;34m,\u001b[0m \u001b[0mparams\u001b[0m\u001b[0;34m:\u001b[0m \u001b[0mOptional\u001b[0m\u001b[0;34m[\u001b[0m\u001b[0mDict\u001b[0m\u001b[0;34m[\u001b[0m\u001b[0mstr\u001b[0m\u001b[0;34m,\u001b[0m \u001b[0mAny\u001b[0m\u001b[0;34m]\u001b[0m\u001b[0;34m]\u001b[0m \u001b[0;34m=\u001b[0m \u001b[0;32mNone\u001b[0m\u001b[0;34m,\u001b[0m \u001b[0mjson\u001b[0m\u001b[0;34m=\u001b[0m\u001b[0;32mNone\u001b[0m\u001b[0;34m)\u001b[0m \u001b[0;34m->\u001b[0m \u001b[0mUnion\u001b[0m\u001b[0;34m[\u001b[0m\u001b[0mrequests\u001b[0m\u001b[0;34m.\u001b[0m\u001b[0mResponse\u001b[0m\u001b[0;34m,\u001b[0m \u001b[0mstr\u001b[0m\u001b[0;34m]\u001b[0m\u001b[0;34m:\u001b[0m\u001b[0;34m\u001b[0m\u001b[0;34m\u001b[0m\u001b[0m\n\u001b[0;32m--> 124\u001b[0;31m         \u001b[0mresponse\u001b[0m \u001b[0;34m=\u001b[0m \u001b[0mself\u001b[0m\u001b[0;34m.\u001b[0m\u001b[0mrequest\u001b[0m\u001b[0;34m(\u001b[0m\u001b[0;34m'POST'\u001b[0m\u001b[0;34m,\u001b[0m \u001b[0mpath\u001b[0m\u001b[0;34m,\u001b[0m \u001b[0mparams\u001b[0m\u001b[0;34m=\u001b[0m\u001b[0mparams\u001b[0m\u001b[0;34m,\u001b[0m \u001b[0mjson\u001b[0m\u001b[0;34m=\u001b[0m\u001b[0mjson\u001b[0m\u001b[0;34m)\u001b[0m\u001b[0;34m\u001b[0m\u001b[0;34m\u001b[0m\u001b[0m\n\u001b[0m\u001b[1;32m    125\u001b[0m         \u001b[0;32mtry\u001b[0m\u001b[0;34m:\u001b[0m\u001b[0;34m\u001b[0m\u001b[0;34m\u001b[0m\u001b[0m\n\u001b[1;32m    126\u001b[0m             \u001b[0;32mreturn\u001b[0m \u001b[0mresponse\u001b[0m\u001b[0;34m.\u001b[0m\u001b[0mjson\u001b[0m\u001b[0;34m(\u001b[0m\u001b[0;34m)\u001b[0m\u001b[0;34m\u001b[0m\u001b[0;34m\u001b[0m\u001b[0m\n",
            "\u001b[0;32m/usr/local/lib/python3.7/dist-packages/pytezos/rpc/node.py\u001b[0m in \u001b[0;36mrequest\u001b[0;34m(self, method, path, **kwargs)\u001b[0m\n\u001b[1;32m    113\u001b[0m         \u001b[0;32mif\u001b[0m \u001b[0mres\u001b[0m\u001b[0;34m.\u001b[0m\u001b[0mstatus_code\u001b[0m \u001b[0;34m!=\u001b[0m \u001b[0;36m200\u001b[0m\u001b[0;34m:\u001b[0m\u001b[0;34m\u001b[0m\u001b[0;34m\u001b[0m\u001b[0m\n\u001b[1;32m    114\u001b[0m             \u001b[0mlogger\u001b[0m\u001b[0;34m.\u001b[0m\u001b[0mdebug\u001b[0m\u001b[0;34m(\u001b[0m\u001b[0;34m'<<<<< %s\\n%s'\u001b[0m\u001b[0;34m,\u001b[0m \u001b[0mres\u001b[0m\u001b[0;34m.\u001b[0m\u001b[0mstatus_code\u001b[0m\u001b[0;34m,\u001b[0m \u001b[0mpformat\u001b[0m\u001b[0;34m(\u001b[0m\u001b[0mres\u001b[0m\u001b[0;34m.\u001b[0m\u001b[0mtext\u001b[0m\u001b[0;34m,\u001b[0m \u001b[0mindent\u001b[0m\u001b[0;34m=\u001b[0m\u001b[0;36m4\u001b[0m\u001b[0;34m)\u001b[0m\u001b[0;34m)\u001b[0m\u001b[0;34m\u001b[0m\u001b[0;34m\u001b[0m\u001b[0m\n\u001b[0;32m--> 115\u001b[0;31m             \u001b[0;32mraise\u001b[0m \u001b[0mRpcError\u001b[0m\u001b[0;34m.\u001b[0m\u001b[0mfrom_response\u001b[0m\u001b[0;34m(\u001b[0m\u001b[0mres\u001b[0m\u001b[0;34m)\u001b[0m\u001b[0;34m\u001b[0m\u001b[0;34m\u001b[0m\u001b[0m\n\u001b[0m\u001b[1;32m    116\u001b[0m \u001b[0;34m\u001b[0m\u001b[0m\n\u001b[1;32m    117\u001b[0m         \u001b[0mlogger\u001b[0m\u001b[0;34m.\u001b[0m\u001b[0mdebug\u001b[0m\u001b[0;34m(\u001b[0m\u001b[0;34m'<<<<< %s\\n%s'\u001b[0m\u001b[0;34m,\u001b[0m \u001b[0mres\u001b[0m\u001b[0;34m.\u001b[0m\u001b[0mstatus_code\u001b[0m\u001b[0;34m,\u001b[0m \u001b[0mjson\u001b[0m\u001b[0;34m.\u001b[0m\u001b[0mdumps\u001b[0m\u001b[0;34m(\u001b[0m\u001b[0mres\u001b[0m\u001b[0;34m.\u001b[0m\u001b[0mjson\u001b[0m\u001b[0;34m(\u001b[0m\u001b[0;34m)\u001b[0m\u001b[0;34m,\u001b[0m \u001b[0mindent\u001b[0m\u001b[0;34m=\u001b[0m\u001b[0;36m4\u001b[0m\u001b[0;34m)\u001b[0m\u001b[0;34m)\u001b[0m\u001b[0;34m\u001b[0m\u001b[0;34m\u001b[0m\u001b[0m\n",
            "\u001b[0;31mRpcError\u001b[0m: ({'id': 'proto.011-PtHangz2.implicit.empty_implicit_contract',\n  'implicit': 'tz1Vkye7xxrzE8wT7fSFQhSeFZ3YyGykbGmG',\n  'kind': 'branch'},)"
          ]
        }
      ]
    },
    {
      "cell_type": "markdown",
      "source": [
        "To see the balance"
      ],
      "metadata": {
        "id": "yUTIEZ5DEOtS"
      }
    },
    {
      "cell_type": "code",
      "source": [
        "pytezos.balance()"
      ],
      "metadata": {
        "colab": {
          "base_uri": "https://localhost:8080/"
        },
        "id": "qZ9YsMoFEOTV",
        "outputId": "25dc6164-11d0-4299-c8a8-71df196f0fd5"
      },
      "execution_count": null,
      "outputs": [
        {
          "output_type": "execute_result",
          "data": {
            "text/plain": [
              "Decimal('28015.245083')"
            ]
          },
          "metadata": {},
          "execution_count": 19
        }
      ]
    },
    {
      "cell_type": "markdown",
      "source": [
        "## Task2\n",
        "\n",
        "Using your activation key, activate your account in the testnet"
      ],
      "metadata": {
        "id": "e4pQsQXclBv2"
      }
    },
    {
      "cell_type": "code",
      "source": [
        ""
      ],
      "metadata": {
        "id": "v_u878y5rneT"
      },
      "execution_count": null,
      "outputs": []
    },
    {
      "cell_type": "markdown",
      "source": [
        "In order to use the dex for our bot, we need to learn how to call contracts, which is what we will do next."
      ],
      "metadata": {
        "id": "_PN2drhnlQAm"
      }
    },
    {
      "cell_type": "markdown",
      "source": [
        "**Contract Methods**\n",
        "\n",
        "In order to learn how to interact with dex exchange contracts from code, we need to learn how to call contract methods. Let's take some contract from the test network and try to interact with it"
      ],
      "metadata": {
        "id": "V9IekCGN88C6"
      }
    },
    {
      "cell_type": "code",
      "source": [
        "contract= pytezos.contract('KT1QcLHZWsZNsJDFFuRWqumix4F2Zqcm2zU3')\n"
      ],
      "metadata": {
        "id": "TtlsuXUGlAp3"
      },
      "execution_count": null,
      "outputs": []
    },
    {
      "cell_type": "markdown",
      "source": [
        "Let's look at the methods"
      ],
      "metadata": {
        "id": "bMLAo4IKBCB4"
      }
    },
    {
      "cell_type": "code",
      "source": [
        "contract"
      ],
      "metadata": {
        "colab": {
          "base_uri": "https://localhost:8080/"
        },
        "id": "cgeroIL4A_g0",
        "outputId": "6cc98632-3efc-4cb4-cb9b-b81a9e681f8e"
      },
      "execution_count": null,
      "outputs": [
        {
          "output_type": "execute_result",
          "data": {
            "text/plain": [
              "<pytezos.jupyter.ContractInterface object at 0x7f1ef91b4e10>\n",
              "\n",
              "Properties\n",
              ".key\t\ttz1Vkye7xxrzE8wT7fSFQhSeFZ3YyGykbGmG\n",
              ".shell\t\t['https://rpc.hangzhounet.teztnets.xyz']\n",
              ".address\tKT1QcLHZWsZNsJDFFuRWqumix4F2Zqcm2zU3\n",
              ".block_id\thead\n",
              ".storage\t# access storage data at block `block_id`\n",
              ".parameter\t# root entrypoint\n",
              "\n",
              "Entrypoints\n",
              ".approve()\n",
              ".getAllowance()\n",
              ".getBalance()\n",
              ".getTotalSupply()\n",
              ".transfer()\n",
              ".default()\n",
              "\n",
              "Views\n",
              "\n",
              "Helpers\n",
              ".big_map_get()\n",
              ".create_from()\n",
              ".from_context()\n",
              ".from_file()\n",
              ".from_micheline()\n",
              ".from_michelson()\n",
              ".from_url()\n",
              ".metadata()\n",
              ".metadata_url()\n",
              ".operation_result()\n",
              ".originate()\n",
              ".program()\n",
              ".script()\n",
              ".storage_from_file()\n",
              ".storage_from_micheline()\n",
              ".storage_from_michelson()\n",
              ".to_file()\n",
              ".to_micheline()\n",
              ".to_michelson()\n",
              ".using()"
            ]
          },
          "metadata": {},
          "execution_count": 42
        }
      ]
    },
    {
      "cell_type": "markdown",
      "source": [
        "Let's **use transfer()** entrypoint\n",
        "\n",
        "\n",
        "\n"
      ],
      "metadata": {
        "id": "nZro8aouBTcS"
      }
    },
    {
      "cell_type": "code",
      "source": [
        "contract.transfer"
      ],
      "metadata": {
        "colab": {
          "base_uri": "https://localhost:8080/"
        },
        "id": "I12X2tXdA61e",
        "outputId": "6b1eb4f4-7d18-4478-cc62-beb7845576d7"
      },
      "execution_count": null,
      "outputs": [
        {
          "output_type": "execute_result",
          "data": {
            "text/plain": [
              "<pytezos.contract.entrypoint.ContractEntrypoint object at 0x7f1ef95e98d0>\n",
              "\n",
              "Properties\n",
              ".key\t\ttz1Vkye7xxrzE8wT7fSFQhSeFZ3YyGykbGmG\n",
              ".shell\t\t['https://rpc.hangzhounet.teztnets.xyz']\n",
              ".address\tKT1QcLHZWsZNsJDFFuRWqumix4F2Zqcm2zU3\n",
              ".block_id\thead\n",
              ".entrypoint\ttransfer\n",
              "\n",
              "Builtin\n",
              "(*args, **kwargs)\t# build transaction parameters (see typedef)\n",
              "\n",
              "Typedef\n",
              "$transfer:\n",
              "\t{\n",
              "\t  \"from\": address,\n",
              "\t  \"to\": address,\n",
              "\t  \"value\": nat\n",
              "\t}\n",
              "\n",
              "$address:\n",
              "\tstr  /* Base58 encoded `tz` or `KT` address */\n",
              "\n",
              "$nat:\n",
              "\tint  /* Natural number */\n",
              "\n",
              "\n",
              "Helpers\n",
              ".decode()\n",
              ".encode()"
            ]
          },
          "metadata": {},
          "execution_count": 22
        }
      ]
    },
    {
      "cell_type": "markdown",
      "source": [
        "Check balance"
      ],
      "metadata": {
        "id": "rhqFVLelExfc"
      }
    },
    {
      "cell_type": "code",
      "source": [
        "pytezos.account()"
      ],
      "metadata": {
        "colab": {
          "base_uri": "https://localhost:8080/"
        },
        "id": "CYAQnioBEuHk",
        "outputId": "306b7227-317c-4d25-db09-1432412dee93"
      },
      "execution_count": null,
      "outputs": [
        {
          "output_type": "execute_result",
          "data": {
            "text/plain": [
              "{'balance': '28015245083', 'counter': '3423191'}"
            ]
          },
          "metadata": {},
          "execution_count": 23
        }
      ]
    },
    {
      "cell_type": "markdown",
      "source": [
        "Before sending transactions from an account, a 'reveal' operation must be made for the account. Our account haven't been activated, but not yet revealed."
      ],
      "metadata": {
        "id": "4J2FoLVUwoJP"
      }
    },
    {
      "cell_type": "code",
      "source": [
        "pytezos.reveal().autofill().sign().inject()"
      ],
      "metadata": {
        "colab": {
          "base_uri": "https://localhost:8080/"
        },
        "id": "AmS0c8MpwO4A",
        "outputId": "f367e1cd-f820-4d4d-cccb-64a3f745ab12"
      },
      "execution_count": null,
      "outputs": [
        {
          "output_type": "execute_result",
          "data": {
            "text/plain": [
              "{'branch': 'BLbMWLWU4zNNQ6cFxfpWxXD2uZyYdcXm8sWXg9c95es1Zm6JkKF',\n",
              " 'chain_id': 'NetXZSsxBpMQeAT',\n",
              " 'contents': [{'counter': '3423192',\n",
              "   'fee': '371',\n",
              "   'gas_limit': '1000',\n",
              "   'kind': 'reveal',\n",
              "   'public_key': 'edpkvST2hRGKBG7u5d8fDVPRBYtNLLggA8dFxREQjHrBb45FUPEmtK',\n",
              "   'source': 'tz1Vkye7xxrzE8wT7fSFQhSeFZ3YyGykbGmG',\n",
              "   'storage_limit': '0'}],\n",
              " 'hash': 'ooAUKBSXn9jqUfxzhEHp9DpCLQyf6zyQbqsN2yB9bFY67k6dEzm',\n",
              " 'protocol': 'PtHangz2aRngywmSRGGvrcTyMbbdpWdpFKuS4uMWxg2RaH9i1qx',\n",
              " 'signature': 'sigXRqMFWekdeBTrz6YTUh2iFQ5Fj3G1LjZgnFswqtnZKFF7LkEEqdikwmGrJPdg3ESistDxompZ9cWggP3y2Z4J4Me5VPSG'}"
            ]
          },
          "metadata": {},
          "execution_count": 26
        }
      ]
    },
    {
      "cell_type": "markdown",
      "source": [
        "from: our address\n",
        "to: random adress from bettercalldev\n",
        "value: any random"
      ],
      "metadata": {
        "id": "xzm8h8wkDIcp"
      }
    },
    {
      "cell_type": "code",
      "source": [
        "pytezos.balance()"
      ],
      "metadata": {
        "colab": {
          "base_uri": "https://localhost:8080/"
        },
        "id": "ubiiG_fr0Nht",
        "outputId": "5f5fbfd9-f311-471a-f059-f6737cf9ebbb"
      },
      "execution_count": null,
      "outputs": [
        {
          "output_type": "execute_result",
          "data": {
            "text/plain": [
              "Decimal('28015.244712')"
            ]
          },
          "metadata": {},
          "execution_count": 35
        }
      ]
    },
    {
      "cell_type": "code",
      "source": [
        "contract.transfer({\n",
        "  \"from\": pytezos.key.public_key_hash(),\n",
        "\t\"to\": \"KT1P6PEcyuuVPLqGUBhM3aQFAkjoRxBZZTC2\",\n",
        "\t\"value\": 3*10*10*10 \n",
        "}).as_transaction().autofill().sign().inject(_async=False)"
      ],
      "metadata": {
        "colab": {
          "base_uri": "https://localhost:8080/",
          "height": 432
        },
        "id": "HAeDJU5nBbcF",
        "outputId": "a6100fe6-8771-42fb-9aba-ce2fbb3edc0a"
      },
      "execution_count": null,
      "outputs": [
        {
          "output_type": "error",
          "ename": "MichelsonError",
          "evalue": "ignored",
          "traceback": [
            "\u001b[0;31m---------------------------------------------------------------------------\u001b[0m",
            "\u001b[0;31mMichelsonError\u001b[0m                            Traceback (most recent call last)",
            "\u001b[0;32m<ipython-input-45-8bc9f1f4f802>\u001b[0m in \u001b[0;36m<module>\u001b[0;34m()\u001b[0m\n\u001b[1;32m      2\u001b[0m   \u001b[0;34m\"from\"\u001b[0m\u001b[0;34m:\u001b[0m \u001b[0mpytezos\u001b[0m\u001b[0;34m.\u001b[0m\u001b[0mkey\u001b[0m\u001b[0;34m.\u001b[0m\u001b[0mpublic_key_hash\u001b[0m\u001b[0;34m(\u001b[0m\u001b[0;34m)\u001b[0m\u001b[0;34m,\u001b[0m\u001b[0;34m\u001b[0m\u001b[0;34m\u001b[0m\u001b[0m\n\u001b[1;32m      3\u001b[0m         \u001b[0;34m\"to\"\u001b[0m\u001b[0;34m:\u001b[0m \u001b[0;34m\"KT1P6PEcyuuVPLqGUBhM3aQFAkjoRxBZZTC2\"\u001b[0m\u001b[0;34m,\u001b[0m\u001b[0;34m\u001b[0m\u001b[0;34m\u001b[0m\u001b[0m\n\u001b[0;32m----> 4\u001b[0;31m         \u001b[0;34m\"value\"\u001b[0m\u001b[0;34m:\u001b[0m \u001b[0;36m3\u001b[0m\u001b[0;34m*\u001b[0m\u001b[0;36m10\u001b[0m\u001b[0;34m*\u001b[0m\u001b[0;36m10\u001b[0m\u001b[0;34m*\u001b[0m\u001b[0;36m10\u001b[0m\u001b[0;34m\u001b[0m\u001b[0;34m\u001b[0m\u001b[0m\n\u001b[0m\u001b[1;32m      5\u001b[0m }).as_transaction().autofill().sign().inject(_async=False)\n",
            "\u001b[0;32m/usr/local/lib/python3.7/dist-packages/pytezos/jupyter.py\u001b[0m in \u001b[0;36m__call__\u001b[0;34m(self, *args, **kwargs)\u001b[0m\n\u001b[1;32m     87\u001b[0m                         \u001b[0;32mreturn\u001b[0m \u001b[0mmethod\u001b[0m\u001b[0;34m(\u001b[0m\u001b[0;34m*\u001b[0m\u001b[0margs\u001b[0m\u001b[0;34m,\u001b[0m \u001b[0;34m**\u001b[0m\u001b[0mkwargs\u001b[0m\u001b[0;34m)\u001b[0m\u001b[0;34m\u001b[0m\u001b[0;34m\u001b[0m\u001b[0m\n\u001b[1;32m     88\u001b[0m                     \u001b[0;32melse\u001b[0m\u001b[0;34m:\u001b[0m\u001b[0;34m\u001b[0m\u001b[0;34m\u001b[0m\u001b[0m\n\u001b[0;32m---> 89\u001b[0;31m                         \u001b[0;32mreturn\u001b[0m \u001b[0mmethod\u001b[0m\u001b[0;34m(\u001b[0m\u001b[0mself\u001b[0m\u001b[0;34m.\u001b[0m\u001b[0mobj\u001b[0m\u001b[0;34m,\u001b[0m \u001b[0;34m*\u001b[0m\u001b[0margs\u001b[0m\u001b[0;34m,\u001b[0m \u001b[0;34m**\u001b[0m\u001b[0mkwargs\u001b[0m\u001b[0;34m)\u001b[0m\u001b[0;34m\u001b[0m\u001b[0;34m\u001b[0m\u001b[0m\n\u001b[0m\u001b[1;32m     90\u001b[0m \u001b[0;34m\u001b[0m\u001b[0m\n\u001b[1;32m     91\u001b[0m                 \u001b[0;32mdef\u001b[0m \u001b[0m__repr__\u001b[0m\u001b[0;34m(\u001b[0m\u001b[0mself\u001b[0m\u001b[0;34m)\u001b[0m\u001b[0;34m:\u001b[0m\u001b[0;34m\u001b[0m\u001b[0;34m\u001b[0m\u001b[0m\n",
            "\u001b[0;32m/usr/local/lib/python3.7/dist-packages/pytezos/operation/group.py\u001b[0m in \u001b[0;36mautofill\u001b[0;34m(self, gas_reserve, burn_reserve, counter, ttl, fee, gas_limit, storage_limit, **kwargs)\u001b[0m\n\u001b[1;32m    237\u001b[0m         \u001b[0mopg_with_metadata\u001b[0m \u001b[0;34m=\u001b[0m \u001b[0mopg\u001b[0m\u001b[0;34m.\u001b[0m\u001b[0mrun\u001b[0m\u001b[0;34m(\u001b[0m\u001b[0;34m)\u001b[0m\u001b[0;34m\u001b[0m\u001b[0;34m\u001b[0m\u001b[0m\n\u001b[1;32m    238\u001b[0m         \u001b[0;32mif\u001b[0m \u001b[0;32mnot\u001b[0m \u001b[0mOperationResult\u001b[0m\u001b[0;34m.\u001b[0m\u001b[0mis_applied\u001b[0m\u001b[0;34m(\u001b[0m\u001b[0mopg_with_metadata\u001b[0m\u001b[0;34m)\u001b[0m\u001b[0;34m:\u001b[0m\u001b[0;34m\u001b[0m\u001b[0;34m\u001b[0m\u001b[0m\n\u001b[0;32m--> 239\u001b[0;31m             \u001b[0;32mraise\u001b[0m \u001b[0mRpcError\u001b[0m\u001b[0;34m.\u001b[0m\u001b[0mfrom_errors\u001b[0m\u001b[0;34m(\u001b[0m\u001b[0mOperationResult\u001b[0m\u001b[0;34m.\u001b[0m\u001b[0merrors\u001b[0m\u001b[0;34m(\u001b[0m\u001b[0mopg_with_metadata\u001b[0m\u001b[0;34m)\u001b[0m\u001b[0;34m)\u001b[0m\u001b[0;34m\u001b[0m\u001b[0;34m\u001b[0m\u001b[0m\n\u001b[0m\u001b[1;32m    240\u001b[0m \u001b[0;34m\u001b[0m\u001b[0m\n\u001b[1;32m    241\u001b[0m         \u001b[0mextra_size\u001b[0m \u001b[0;34m=\u001b[0m \u001b[0;34m(\u001b[0m\u001b[0;36m32\u001b[0m \u001b[0;34m+\u001b[0m \u001b[0;36m64\u001b[0m\u001b[0;34m)\u001b[0m \u001b[0;34m//\u001b[0m \u001b[0mlen\u001b[0m\u001b[0;34m(\u001b[0m\u001b[0mopg\u001b[0m\u001b[0;34m.\u001b[0m\u001b[0mcontents\u001b[0m\u001b[0;34m)\u001b[0m \u001b[0;34m+\u001b[0m \u001b[0;36m1\u001b[0m  \u001b[0;31m# size of serialized branch and signature\u001b[0m\u001b[0;34m\u001b[0m\u001b[0;34m\u001b[0m\u001b[0m\n",
            "\u001b[0;31mMichelsonError\u001b[0m: ({'id': 'proto.011-PtHangz2.michelson_v1.script_rejected',\n  'kind': 'temporary',\n  'location': 316,\n  'with': {'string': 'NotEnoughBalance'}},)"
          ]
        }
      ]
    },
    {
      "cell_type": "markdown",
      "source": [
        ""
      ],
      "metadata": {
        "id": "YJJXJsv0FWxR"
      }
    }
  ]
}