{
  "nbformat": 4,
  "nbformat_minor": 0,
  "metadata": {
    "colab": {
      "name": "Slippage Tolerance .ipynb",
      "provenance": []
    },
    "kernelspec": {
      "name": "python3",
      "display_name": "Python 3"
    },
    "language_info": {
      "name": "python"
    }
  },
  "cells": [
    {
      "cell_type": "markdown",
      "source": [
        "# **Slippage Tolerance**\n",
        "In this lesson you will learn:\n",
        "- about the risk arising about the transfer through the DEXes -> Slippage Tolerance\n",
        "- about Price Slippage Caused by High Trading Volume\n",
        "- about an example Slippage Caused by Low Liquidity"
      ],
      "metadata": {
        "id": "TMa2rpWdFfho"
      }
    },
    {
      "cell_type": "markdown",
      "source": [
        "## What is slippage?\n",
        "\n",
        "Slippage is the difference between the expected price of a trade and the actual price at which the trade is executed. "
      ],
      "metadata": {
        "id": "RPg4SnXUGVlw"
      }
    },
    {
      "cell_type": "markdown",
      "source": [
        "Slippage can be caused by high market volatility and/or low liquidity."
      ],
      "metadata": {
        "id": "XgQu2veLGegX"
      }
    },
    {
      "cell_type": "markdown",
      "source": [
        "# High market volatility\n",
        "High market volatility can mean a sudden change in price that occurs in the moment between when you confirm an exchange and when the exchange is executed. "
      ],
      "metadata": {
        "id": "D_4IGGlUGi4P"
      }
    },
    {
      "cell_type": "markdown",
      "source": [
        "# Low liquidity\n",
        "Low liquidity might mean that there is not enough crypto at the quoted price to fill your order. Larger orders tend to have greater slippage because of liquidity issues.\n"
      ],
      "metadata": {
        "id": "XOV0d__OGlJf"
      }
    },
    {
      "cell_type": "code",
      "execution_count": null,
      "metadata": {
        "id": "B6TDbTMzFI0o"
      },
      "outputs": [],
      "source": [
        ""
      ]
    }
  ]
}