{
  "nbformat": 4,
  "nbformat_minor": 0,
  "metadata": {
    "colab": {
      "name": "DEX,AMM->QuiupuSwap.ipynb",
      "provenance": []
    },
    "kernelspec": {
      "name": "python3",
      "display_name": "Python 3"
    },
    "language_info": {
      "name": "python"
    }
  },
  "cells": [
    {
      "cell_type": "markdown",
      "source": [
        "# **DEX,AMM with Pytezos**\n",
        "In this lesson you will learn:\n",
        "- How decentralized exchanges work\n",
        "- What is AMMM\n",
        "- Learn how to calculate the rate for pairs of tokens, which you will need in your bot to compare rates on different exchanges"
      ],
      "metadata": {
        "id": "UztulWnjy5JN"
      }
    },
    {
      "cell_type": "markdown",
      "source": [
        "First, install the necessary libraries for this lesson, and then move on to the theory"
      ],
      "metadata": {
        "id": "CVfTrys309Jb"
      }
    },
    {
      "cell_type": "code",
      "execution_count": null,
      "metadata": {
        "id": "c0vWY1wKsgVG"
      },
      "outputs": [],
      "source": [
        "%%capture\n",
        "## %%capture is a Colab built-in function to suppress the output of that particular cell whether it uses a command-line code or some python code\n",
        "\n",
        "## Pytezos dependencies\n",
        "!apt install libsodium-dev libsecp256k1-dev libgmp-dev\n",
        "!pip install pytezos"
      ]
    },
    {
      "cell_type": "markdown",
      "source": [
        "# **What is a DEX?**\n",
        "\n",
        "Unlike traditional orderbook-based exchanges, where buyers and sellers cross the bid-ask spread to execute trades and determine asset prices, Automated Market Makers (AMM) are a type of decentralized exchange composed of “smart contract-liquidity pools that hold (at least) two crypto assets in reserve and allow anyone to deposit tokens of one type and thereby to withdraw tokens of the other type \n",
        "\n",
        "Examples of Tezos DEXes:\n",
        " - https://quipuswap.com/swap\n",
        " - https://spicyswap.xyz/\n",
        " - https://www.plentydefi.com/swap\n",
        " - https://aliens.farm/exchange"
      ],
      "metadata": {
        "id": "H1OJmlMY1ExS"
      }
    },
    {
      "cell_type": "markdown",
      "source": [
        "let's connect to one of these contracts from the Quipuswap exchange"
      ],
      "metadata": {
        "id": "wulZG__i21GJ"
      }
    },
    {
      "cell_type": "code",
      "source": [
        "from pytezos import pytezos\n",
        "# Tezos в Quipu\n",
        "TeztoQ = pytezos.using('mainnet').contract('KT1X3zxdTzPB9DgVzA3ad6dgZe9JEamoaeRy')"
      ],
      "metadata": {
        "id": "cIJm1zRutiWz"
      },
      "execution_count": null,
      "outputs": []
    },
    {
      "cell_type": "markdown",
      "source": [
        "Each pool is defined by a smart contract that includes a few functions to enable swapping tokens, adding liquidity, and more. At its core, each pool uses the function $x * y = k$ to maintain a curve along which trades can happen."
      ],
      "metadata": {
        "id": "-BE96mUKmKAo"
      }
    },
    {
      "cell_type": "markdown",
      "source": [
        "Usually dex contracts include a description of the current liquidity, let's look at an example. This contract has token_pool and tez_pool which are x and y in the equation above/"
      ],
      "metadata": {
        "id": "RnTeNJBamLt-"
      }
    },
    {
      "cell_type": "code",
      "source": [
        "TeztoQ.storage()"
      ],
      "metadata": {
        "colab": {
          "base_uri": "https://localhost:8080/"
        },
        "id": "rsI5Mhd9tpjy",
        "outputId": "7ade3c61-471a-4896-e07f-22c6d6f8f2ac"
      },
      "execution_count": null,
      "outputs": [
        {
          "output_type": "execute_result",
          "data": {
            "text/plain": [
              "{'dex_lambdas': 12073,\n",
              " 'metadata': 12074,\n",
              " 'storage': {'baker_validator': 'KT1DLRZD5XTQYydXzGuPhXUx8TdZR2WEmMGS',\n",
              "  'current_candidate': 'tz1VQnqCCqX4K5sP3FNkVSNKTdCAMJDd3E1n',\n",
              "  'current_delegated': 'tz1UNkf4sWzC5vsKP7FnejSeJsXdc6z8Kzk4',\n",
              "  'last_update_time': 1644760274,\n",
              "  'last_veto': 1630028166,\n",
              "  'ledger': 12075,\n",
              "  'period_finish': 1645536246,\n",
              "  'reward': 54474664,\n",
              "  'reward_paid': 403830698,\n",
              "  'reward_per_sec': 57934389660493827,\n",
              "  'reward_per_share': 15187608701188,\n",
              "  'tez_pool': 42450770044,\n",
              "  'token_address': 'KT193D4vozYnhGJQVtw7CoxxqphqUEEwK6Vb',\n",
              "  'token_id': 0,\n",
              "  'token_pool': 72951595081,\n",
              "  'total_reward': 671460603,\n",
              "  'total_supply': 46475786541,\n",
              "  'total_votes': 6471452357,\n",
              "  'user_rewards': 12076,\n",
              "  'veto': 155343,\n",
              "  'vetos': 12077,\n",
              "  'voters': 12078,\n",
              "  'votes': 12079},\n",
              " 'token_lambdas': 12080}"
            ]
          },
          "metadata": {},
          "execution_count": 4
        }
      ]
    },
    {
      "cell_type": "markdown",
      "source": [
        "Let's take these variables and use them to calculate the exchange rate"
      ],
      "metadata": {
        "id": "ew1IuJBioG_v"
      }
    },
    {
      "cell_type": "code",
      "source": [
        "tez_pool = TeztoQ.storage()['storage']['tez_pool']\n",
        "tez_pool"
      ],
      "metadata": {
        "colab": {
          "base_uri": "https://localhost:8080/"
        },
        "id": "YkTyvyMwtprB",
        "outputId": "59c552e0-f37e-469a-eb18-9d41b8058e71"
      },
      "execution_count": null,
      "outputs": [
        {
          "output_type": "execute_result",
          "data": {
            "text/plain": [
              "42450770044"
            ]
          },
          "metadata": {},
          "execution_count": 5
        }
      ]
    },
    {
      "cell_type": "code",
      "source": [
        "token_pool = TeztoQ.storage()['storage']['token_pool']\n",
        "token_pool"
      ],
      "metadata": {
        "colab": {
          "base_uri": "https://localhost:8080/"
        },
        "id": "UvO4nmd-twqa",
        "outputId": "60acd540-2558-408b-8a9f-a6eb94dde9c4"
      },
      "execution_count": null,
      "outputs": [
        {
          "output_type": "execute_result",
          "data": {
            "text/plain": [
              "72951595081"
            ]
          },
          "metadata": {},
          "execution_count": 6
        }
      ]
    },
    {
      "cell_type": "markdown",
      "source": [
        "### Token prices\n",
        "\n",
        "Considering that the equation  $x * y = k$ must hold, when someone executes a trade, we get $(x + Δx) · (y + Δy) = k$. It can then be easily shown that $Δy = (k/x + Δx) – y$."
      ],
      "metadata": {
        "id": "IzfUHgF2nrKl"
      }
    },
    {
      "cell_type": "markdown",
      "source": [
        "**Important**: Tez prices are considered in microthesis, and token prices are in decimals from contracts"
      ],
      "metadata": {
        "id": "U-55t6yIs7BB"
      }
    },
    {
      "cell_type": "code",
      "source": [
        "#1 tez = 1,000,000 micro tez\n",
        "def tzToMutez(tezAmount):\n",
        "    return tezAmount*1000000"
      ],
      "metadata": {
        "id": "j5fSb6EGtx05"
      },
      "execution_count": null,
      "outputs": []
    },
    {
      "cell_type": "markdown",
      "source": [
        "### Fees\n",
        "\n",
        "The trading fee is set at 0.3%,out of which is added to the liquidity pools as rewards for the liquidity providers"
      ],
      "metadata": {
        "id": "DeraXtFqoq4U"
      }
    },
    {
      "cell_type": "code",
      "source": [
        "def TeztoQoutput(tezAmount):\n",
        "    mutezAmount = tzToMutez(tezAmount)\n",
        "    \n",
        "    tezInWithFee = mutezAmount*997\n",
        "    \n",
        "    numerator = tezInWithFee*token_pool\n",
        "    \n",
        "    denominator = tez_pool * 1000 + tezInWithFee\n",
        "    \n",
        "    tokensOut = numerator/denominator\n",
        "\n",
        "    return tokensOut/(10*10*10*10*10*10)\n"
      ],
      "metadata": {
        "id": "zURfkyyXu_7C"
      },
      "execution_count": null,
      "outputs": []
    },
    {
      "cell_type": "markdown",
      "source": [
        "## Task1 \n",
        "As you can see we we divide the tokens by 10 to the power of 6, as it was mentioned before, the calculations are carried out in decimals of tokens. As an example, we transfer Tetz to Quipu, find the Quipu token in https://better-call.dev/ and make sure that you need to divide by this number"
      ],
      "metadata": {
        "id": "Q4-HoS5G0RwC"
      }
    },
    {
      "cell_type": "code",
      "source": [
        "TeztoQoutput(1)"
      ],
      "metadata": {
        "colab": {
          "base_uri": "https://localhost:8080/"
        },
        "id": "SMqXsjEcv4eR",
        "outputId": "f822fb53-31fc-4010-99ee-0f495816afd2"
      },
      "execution_count": null,
      "outputs": [
        {
          "output_type": "execute_result",
          "data": {
            "text/plain": [
              "1.7133030109293605"
            ]
          },
          "metadata": {},
          "execution_count": 9
        }
      ]
    },
    {
      "cell_type": "markdown",
      "source": [
        "Now let's calculate Exchange rate"
      ],
      "metadata": {
        "id": "iyP5-KyXyuSL"
      }
    },
    {
      "cell_type": "code",
      "source": [
        "#Exchange rate\n",
        "def ex_rate_tq(amount):\n",
        "    return (amount)/TeztoQoutput(amount)\n"
      ],
      "metadata": {
        "id": "nQjj7rmtxYFR"
      },
      "execution_count": null,
      "outputs": []
    },
    {
      "cell_type": "code",
      "source": [
        "ex_rate_tq(100)\n",
        "\n"
      ],
      "metadata": {
        "colab": {
          "base_uri": "https://localhost:8080/"
        },
        "id": "QK63YUwwxoXx",
        "outputId": "0e2c3cfb-ed45-47b5-ed7b-3d4500c40956"
      },
      "execution_count": null,
      "outputs": [
        {
          "output_type": "execute_result",
          "data": {
            "text/plain": [
              "0.5850249814729209"
            ]
          },
          "metadata": {},
          "execution_count": 11
        }
      ]
    },
    {
      "cell_type": "markdown",
      "source": [
        "# What is Slippage Tolerance?\n",
        "Slippage Tolerance is the pricing difference between the price at the confirmation time and the actual price of the transaction users are willing to accept when swapping on AMMs. Slippage tolerance is set as a percentage of the total swap value.\n",
        "In the case of volatile markets or low-liquidity pools, users can complete the transactions faster and avoid failures by accepting a higher slippage and slippage tolerance percentage."
      ],
      "metadata": {
        "id": "fGG7iJZw1EoU"
      }
    },
    {
      "cell_type": "code",
      "source": [
        "#Slippage tolerance\n",
        "s_t=0.005\n",
        "\n",
        "#Minimum received\n",
        "\n",
        "def minimum_received(s_t,amount):\n",
        "  multiplier = 1 - s_t\n",
        "  return TeztoQoutput(amount)*multiplier\n",
        "\n",
        "minimum_received(s_t,1)"
      ],
      "metadata": {
        "id": "MgwzK7NEzTql",
        "colab": {
          "base_uri": "https://localhost:8080/"
        },
        "outputId": "710d6e7d-bd92-456d-8f2d-e1c03834e319"
      },
      "execution_count": null,
      "outputs": [
        {
          "output_type": "execute_result",
          "data": {
            "text/plain": [
              "1.7047364958747138"
            ]
          },
          "metadata": {},
          "execution_count": 12
        }
      ]
    },
    {
      "cell_type": "markdown",
      "source": [
        "Let's get everything calculated"
      ],
      "metadata": {
        "id": "KiAXKnri1Hlb"
      }
    },
    {
      "cell_type": "code",
      "source": [
        "# Result Tez to Quipu\n",
        "tez_amount = 1\n",
        "print(\"Input {} XTZ\".format(tez_amount))\n",
        "print(\"Output {} QUIPU\".format(TeztoQoutput(tez_amount)))\n",
        "print(\"Exchange rate 1 Quipuswap Governance Token = {} Tezos\".format(round(ex_rate_tq(tez_amount),6)))"
      ],
      "metadata": {
        "colab": {
          "base_uri": "https://localhost:8080/"
        },
        "id": "fT_Fv89fPt-0",
        "outputId": "e164efb9-7e9b-4971-ac2b-1f93f9ba63b1"
      },
      "execution_count": null,
      "outputs": [
        {
          "output_type": "stream",
          "name": "stdout",
          "text": [
            "Input 1 XTZ\n",
            "Output 1.7133030109293605 QUIPU\n",
            "Exchange rate 1 Quipuswap Governance Token = 0.583668 Tezos\n"
          ]
        }
      ]
    },
    {
      "cell_type": "markdown",
      "source": [
        "## Task2 \n",
        "Compare the received values with the values at https://v1.quipuswap.com/swap\n",
        "Note that the built-in rounding in Python and the rounding in the Bignumber.js library used by Quipuswap are different."
      ],
      "metadata": {
        "id": "c5YNkLXG2Oca"
      }
    },
    {
      "cell_type": "markdown",
      "source": [
        "## Task3 \n",
        "\n",
        "Write a conversion formula from token A to token B, the formula can be peeped here: https://github.com/madfish-solutions/quipuswap-webapp/blob/6cb9c935edf3346207daded889281811060fae2c/src/core/estimates.ts\n",
        "\n"
      ],
      "metadata": {
        "id": "r01Kj02V1zIq"
      }
    }
  ]
}