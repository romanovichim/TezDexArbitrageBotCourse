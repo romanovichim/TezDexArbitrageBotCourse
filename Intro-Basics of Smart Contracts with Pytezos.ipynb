{
  "nbformat": 4,
  "nbformat_minor": 0,
  "metadata": {
    "colab": {
      "name": "PyTezIntroduction.ipynb",
      "provenance": [],
      "collapsed_sections": []
    },
    "kernelspec": {
      "name": "python3",
      "display_name": "Python 3"
    },
    "language_info": {
      "name": "python"
    }
  },
  "cells": [
    {
      "cell_type": "markdown",
      "source": [
        "# **PyTezIntroduction**\n",
        "In this lesson you will learn:\n",
        "- What is smart contract\n",
        "- How to use pytezos\n",
        "- examine the contract with the help of pytezos"
      ],
      "metadata": {
        "id": "R4mSENFJppXY"
      }
    },
    {
      "cell_type": "markdown",
      "source": [
        "First of all you’ll probably need to install cryptographic libraries in your system."
      ],
      "metadata": {
        "id": "L-DfgVLOqeQo"
      }
    },
    {
      "cell_type": "code",
      "execution_count": null,
      "metadata": {
        "id": "2g7BvckP5qhx"
      },
      "outputs": [],
      "source": [
        "%%capture\n",
        "## %%capture is a Colab built-in function to suppress the output of that particular cell whether it uses a command-line code or some python code\n",
        "\n",
        "## Pytezos dependencies\n",
        "!apt install libsodium-dev libsecp256k1-dev libgmp-dev\n",
        "!pip install pytezos"
      ]
    },
    {
      "cell_type": "markdown",
      "source": [
        "To start interaction with the Tezos blockchain we need to import the **PyTezosClient**\n",
        "If you are completely new, I advise you to start here: https://tezos.org.ua/ru/blog/how-blockchain-work"
      ],
      "metadata": {
        "id": "WP8MegDJpoda"
      }
    },
    {
      "cell_type": "code",
      "source": [
        "from pytezos import pytezos\n"
      ],
      "metadata": {
        "id": "D01jg-X-6cOt"
      },
      "execution_count": null,
      "outputs": []
    },
    {
      "cell_type": "markdown",
      "source": [
        " Pytezos has a great feature, if you print any pytezos object it will call docstrings. let's look at an example of **PyTezosClient**"
      ],
      "metadata": {
        "id": "4R9Fc-vPrfpV"
      }
    },
    {
      "cell_type": "code",
      "source": [
        "pytezos"
      ],
      "metadata": {
        "id": "YDDKzhkYrWz_",
        "colab": {
          "base_uri": "https://localhost:8080/"
        },
        "outputId": "47d92ff6-cba8-464a-de93-260df704aca4"
      },
      "execution_count": null,
      "outputs": [
        {
          "output_type": "execute_result",
          "data": {
            "text/plain": [
              "<pytezos.client.PyTezosClient object at 0x7ff2e9c6b050>\n",
              "\n",
              "Properties\n",
              ".key\t\ttz1grSQDByRpnVs7sPtaprNZRp531ZKz6Jmm\n",
              ".shell\t\t['https://rpc.tzkt.io/hangzhou2net']\n",
              ".block_id\thead\n",
              "\n",
              "Helpers\n",
              ".account()\n",
              ".activate_account()\n",
              ".activate_protocol()\n",
              ".bake_block()\n",
              ".balance()\n",
              ".ballot()\n",
              ".bulk()\n",
              ".check_message()\n",
              ".contract()\n",
              ".delegation()\n",
              ".double_baking_evidence()\n",
              ".double_endorsement_evidence()\n",
              ".endorsement()\n",
              ".endorsement_with_slot()\n",
              ".failing_noop()\n",
              ".now()\n",
              ".operation()\n",
              ".operation_group()\n",
              ".origination()\n",
              ".proposals()\n",
              ".register_global_constant()\n",
              ".reveal()\n",
              ".seed_nonce_revelation()\n",
              ".sign_message()\n",
              ".sleep()\n",
              ".transaction()\n",
              ".using()\n",
              ".wait()"
            ]
          },
          "metadata": {},
          "execution_count": 3
        }
      ]
    },
    {
      "cell_type": "markdown",
      "source": [
        "We can configure connection settings using the method **using**"
      ],
      "metadata": {
        "id": "MzGJw6Yor16t"
      }
    },
    {
      "cell_type": "code",
      "source": [
        "pytezos.using"
      ],
      "metadata": {
        "id": "Q5MniYJos9ve",
        "colab": {
          "base_uri": "https://localhost:8080/"
        },
        "outputId": "019d3487-7a7a-4250-96e5-b50127ab5dfe"
      },
      "execution_count": null,
      "outputs": [
        {
          "output_type": "execute_result",
          "data": {
            "text/plain": [
              "<function PyTezosClient.using at 0x7ff2c63bbc20>\n",
              "Change current RPC endpoint and account (private key).\n",
              "\n",
              ":param shell: one of 'mainnet', '***net', or RPC node uri, or instance of :class:`pytezos.rpc.shell.ShellQuery`\n",
              ":param key: base58 encoded key, path to the faucet file, faucet file itself, alias from tezos-client, or `Key`\n",
              ":param mode: whether to use `readable` or `optimized` encoding for parameters/storage/other\n",
              ":returns: A copy of current object with changes applied"
            ]
          },
          "metadata": {},
          "execution_count": 4
        }
      ]
    },
    {
      "cell_type": "markdown",
      "source": [
        ""
      ],
      "metadata": {
        "id": "Gq4RQB8qvao6"
      }
    },
    {
      "cell_type": "markdown",
      "source": [
        "\n",
        "In this tutorial, we will try to connect to the Tezos test network, the current list of test networks can be found here: "
      ],
      "metadata": {
        "id": "Yc98j0JxtNFE"
      }
    },
    {
      "cell_type": "code",
      "source": [
        "pytezos = pytezos.using(shell=\"https://rpc.hangzhounet.teztnets.xyz\")\n",
        "#List of testnets https://teztnets.xyz/"
      ],
      "metadata": {
        "id": "nDPne3tptCDF"
      },
      "execution_count": null,
      "outputs": []
    },
    {
      "cell_type": "markdown",
      "source": [
        "# How smart contracts work\n",
        "A smart contract consists of two parts: an executable code and a storage where all the data is recorded. The developer in the code specifies the functions and incoming arguments, as well as the type of data in the store.\n",
        "\n",
        "When deploying a contract to the blockchain, the developer sets its initial state - data that will then be transformed by the nodes when performing operations. For example, when creating a token smart contract, the developer specifies the number of tokens and the addresses of users who have the right to dispose of them."
      ],
      "metadata": {
        "id": "uBf-eKTgvZLD"
      }
    },
    {
      "cell_type": "markdown",
      "source": [
        "To interact with contracts pytezos has a contract helper\n",
        "\n",
        "\n",
        "\n"
      ],
      "metadata": {
        "id": "kY9VrhAjvc8z"
      }
    },
    {
      "cell_type": "code",
      "source": [
        "pytezos.contract"
      ],
      "metadata": {
        "id": "RiVFoqHovMaT",
        "colab": {
          "base_uri": "https://localhost:8080/"
        },
        "outputId": "1fd28042-ce8f-4ce9-ba00-debdaf3908c4"
      },
      "execution_count": null,
      "outputs": [
        {
          "output_type": "execute_result",
          "data": {
            "text/plain": [
              "<function PyTezosClient.contract at 0x7ff2c63bbb90>\n",
              "Get a high-level interface for a given smart contract id.\n",
              "\n",
              ":param address: KT address of a smart contract\n",
              ":rtype: ContractInterface"
            ]
          },
          "metadata": {},
          "execution_count": 6
        }
      ]
    },
    {
      "cell_type": "markdown",
      "source": [
        "Let's try some contract"
      ],
      "metadata": {
        "id": "NB8Li1oOvuwB"
      }
    },
    {
      "cell_type": "code",
      "source": [
        "testcontract = pytezos.contract('KT1WuUtdqUaoLehJq6S3FPNdenm57msggmuZ')"
      ],
      "metadata": {
        "id": "N-UFT4_2-a-Q"
      },
      "execution_count": null,
      "outputs": []
    },
    {
      "cell_type": "markdown",
      "source": [
        "## Task1 \n",
        "Find any contract on https://better-call.dev/ and copy its KT address of a smart contract "
      ],
      "metadata": {
        "id": "k9LcDqKcvvTz"
      }
    },
    {
      "cell_type": "markdown",
      "source": [
        "Let’s see the list of entrypoints available and their signatures:"
      ],
      "metadata": {
        "id": "6WxrJQYoxuJw"
      }
    },
    {
      "cell_type": "code",
      "source": [
        "testcontract.parameter"
      ],
      "metadata": {
        "id": "hezOFmZ7GCay",
        "colab": {
          "base_uri": "https://localhost:8080/"
        },
        "outputId": "ab2879d5-0d9e-4ff7-e344-ff4921f6cf29"
      },
      "execution_count": null,
      "outputs": [
        {
          "output_type": "execute_result",
          "data": {
            "text/plain": [
              "<pytezos.contract.entrypoint.ContractEntrypoint object at 0x7ff2c5f00990>\n",
              "\n",
              "Properties\n",
              ".key\t\ttz1grSQDByRpnVs7sPtaprNZRp531ZKz6Jmm\n",
              ".shell\t\t['https://rpc.hangzhounet.teztnets.xyz']\n",
              ".address\tKT1WuUtdqUaoLehJq6S3FPNdenm57msggmuZ\n",
              ".block_id\thead\n",
              ".entrypoint\tdefault\n",
              "\n",
              "Builtin\n",
              "(*args, **kwargs)\t# build transaction parameters (see typedef)\n",
              "\n",
              "Typedef\n",
              "$default:\n",
              "\t{ \"mint_OBJKT\": $mint_OBJKT } ||\n",
              "\t{ \"update_manager\": address }\n",
              "\n",
              "$mint_OBJKT:\n",
              "\t{\n",
              "\t  \"address\": address,\n",
              "\t  \"amount\": nat,\n",
              "\t  \"metadata\": bytes,\n",
              "\t  \"royalties\": nat\n",
              "\t}\n",
              "\n",
              "$address:\n",
              "\tstr  /* Base58 encoded `tz` or `KT` address */\n",
              "\n",
              "$nat:\n",
              "\tint  /* Natural number */\n",
              "\n",
              "$bytes:\n",
              "\tstr  /* Hex string */ ||\n",
              "\tbytes  /* Python byte string */\n",
              "\n",
              "\n",
              "Helpers\n",
              ".decode()\n",
              ".encode()"
            ]
          },
          "metadata": {},
          "execution_count": 8
        }
      ]
    },
    {
      "cell_type": "markdown",
      "source": [
        "Let's look at the mutable part of the smart contract - **storage**"
      ],
      "metadata": {
        "id": "ueR810uwx-xw"
      }
    },
    {
      "cell_type": "code",
      "source": [
        "testcontract.storage()"
      ],
      "metadata": {
        "id": "cELItE_2FQnC",
        "colab": {
          "base_uri": "https://localhost:8080/"
        },
        "outputId": "8a927e2e-2861-43c3-ef0f-c42dfc97f348"
      },
      "execution_count": null,
      "outputs": [
        {
          "output_type": "execute_result",
          "data": {
            "text/plain": [
              "{'genesis': 0,\n",
              " 'locked': False,\n",
              " 'manager': 'tz1WqZcneNJuq7mo5xTLeJUCY9RNevyUxsoh',\n",
              " 'metadata': 114831,\n",
              " 'objkt': 'KT1Et1btXJPT8F75P8MNUpjs8shix4xTkgP5',\n",
              " 'objkt_id': 4,\n",
              " 'royalties': 114832}"
            ]
          },
          "metadata": {},
          "execution_count": 9
        }
      ]
    },
    {
      "cell_type": "markdown",
      "source": [
        "We can access the repository like a dictionary using keys"
      ],
      "metadata": {
        "id": "1_iE69Y_yBfR"
      }
    },
    {
      "cell_type": "code",
      "source": [
        "testcontract.storage()['manager']"
      ],
      "metadata": {
        "id": "ytMbF_ZSyMcp",
        "colab": {
          "base_uri": "https://localhost:8080/",
          "height": 35
        },
        "outputId": "653d98a9-c83a-4431-9565-8a132e4bd5b5"
      },
      "execution_count": null,
      "outputs": [
        {
          "output_type": "execute_result",
          "data": {
            "application/vnd.google.colaboratory.intrinsic+json": {
              "type": "string"
            },
            "text/plain": [
              "'tz1WqZcneNJuq7mo5xTLeJUCY9RNevyUxsoh'"
            ]
          },
          "metadata": {},
          "execution_count": 10
        }
      ]
    },
    {
      "cell_type": "markdown",
      "source": [
        "## Task2\n",
        "For the contract that you found in the last task, print its storage"
      ],
      "metadata": {
        "id": "PZO3CO4myXBh"
      }
    }
  ]
}