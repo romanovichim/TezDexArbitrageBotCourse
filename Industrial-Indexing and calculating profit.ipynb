{
  "nbformat": 4,
  "nbformat_minor": 0,
  "metadata": {
    "colab": {
      "name": "QuipuSpicyCycle.ipynb",
      "provenance": []
    },
    "kernelspec": {
      "name": "python3",
      "display_name": "Python 3"
    },
    "language_info": {
      "name": "python"
    }
  },
  "cells": [
    {
      "cell_type": "markdown",
      "source": [
        "# **QuipuSpicyCycle.**\n",
        "In this lesson you will:\n",
        "- Сalculate the rate of TezQuipu pair buy on the exchange QuipuSwap exchange\n",
        "- Сalculate the rate of TezQuipu pair buy on the exchange SpicySwap exchange\n",
        "- Сalculate the possible profit from arbitration"
      ],
      "metadata": {
        "id": "VB0lUrfG75j9"
      }
    },
    {
      "cell_type": "markdown",
      "source": [
        "As usual, let's start by installing the libraries"
      ],
      "metadata": {
        "id": "nWWQTWk48_9M"
      }
    },
    {
      "cell_type": "code",
      "execution_count": null,
      "metadata": {
        "id": "jyOrkZPe7n82"
      },
      "outputs": [],
      "source": [
        "%%capture\n",
        "## %%capture is a Colab built-in function to suppress the output of that particular cell whether it uses a command-line code or some python code\n",
        "\n",
        "from matplotlib import pyplot as plt\n",
        "from pandas import json_normalize\n",
        "import json\n",
        "import pandas as pd\n",
        "from tqdm import tqdm\n",
        "import requests\n",
        "import time"
      ]
    },
    {
      "cell_type": "markdown",
      "source": [
        "We considered the contract from the QuipuSwap in one of the previous lessons, let's see the contract from the SpicySwap"
      ],
      "metadata": {
        "id": "rilSL-rZ-ACj"
      }
    },
    {
      "cell_type": "code",
      "source": [
        "smart_contract =\"KT1VLvdV1u268eVzBFEFr72JgEKhq2MU6NqJ\"\n",
        "\n",
        "\n",
        "request_url = f'https://api.tzkt.io/v1/contracts/{smart_contract}/storage/'\n",
        "\n",
        "response = requests.get(request_url)\n",
        "new_data = json.loads(response.text)\n",
        "new_data"
      ],
      "metadata": {
        "colab": {
          "base_uri": "https://localhost:8080/"
        },
        "id": "25f6UqzE9_rc",
        "outputId": "5a539210-4981-4a8e-91a0-b48c27a8df25"
      },
      "execution_count": null,
      "outputs": [
        {
          "output_type": "execute_result",
          "data": {
            "text/plain": [
              "{'assets': {'ledger': 19755,\n",
              "  'operators': 19756,\n",
              "  'token_metadata': 19757,\n",
              "  'token_total_supply': 19758},\n",
              " 'contract_code': 19759,\n",
              " 'current_swap': None,\n",
              " 'farm_proxy_contract': 'KT1QAPkX4XzZp5GagvTuFmUvUGkEXbbfvS4Y',\n",
              " 'metadata': 19760,\n",
              " 'price_cumulative_0': '6011597',\n",
              " 'price_cumulative_1': '21957752',\n",
              " 'price_ts_last': '2022-02-20T15:50:00Z',\n",
              " 'reserve0': '2771557423',\n",
              " 'reserve1': '1550047889',\n",
              " 'spiceFeeLastK': '4295737320316275140',\n",
              " 'token0': {'fa2_address': 'KT193D4vozYnhGJQVtw7CoxxqphqUEEwK6Vb',\n",
              "  'token_id': '0'},\n",
              " 'token1': {'fa2_address': 'KT1PnUZCp3u2KzWr93pn4DD7HAJnm3rWVrgn',\n",
              "  'token_id': '0'}}"
            ]
          },
          "metadata": {},
          "execution_count": 10
        }
      ]
    },
    {
      "cell_type": "markdown",
      "source": [
        "As you can see the storage is different\n",
        "reserve0 - Quipu pool\n",
        "reserve1- Tezos pool"
      ],
      "metadata": {
        "id": "6FcaLpyO-oUh"
      }
    },
    {
      "cell_type": "markdown",
      "source": [
        "# **Collecting reserves**\n",
        "\n",
        "Let's write functions that get pools-reserves"
      ],
      "metadata": {
        "id": "EQyf9Uqy_zih"
      }
    },
    {
      "cell_type": "code",
      "source": [
        "def Qpools(smart_contract):\n",
        "    request_url = f'https://api.tzkt.io/v1/contracts/{smart_contract}/storage/'\n",
        "\n",
        "    response = requests.get(request_url)\n",
        "    new_data = json.loads(response.text)\n",
        "    return int(new_data['storage']['tez_pool']), int(new_data['storage']['token_pool'])\n",
        "\n",
        "def Spools(mart_contract):\n",
        "    request_url = f'https://api.tzkt.io/v1/contracts/{smart_contract}/storage/'\n",
        "\n",
        "    response = requests.get(request_url)\n",
        "    new_data = json.loads(response.text)\n",
        "    return int(new_data['reserve1']),int(new_data['reserve0'])"
      ],
      "metadata": {
        "id": "9qHrisRr-nsM"
      },
      "execution_count": null,
      "outputs": []
    },
    {
      "cell_type": "markdown",
      "source": [
        "Let's take the functions from the previous lessons to calculate the exchange rate of the pair"
      ],
      "metadata": {
        "id": "7O_zKDJRA124"
      }
    },
    {
      "cell_type": "code",
      "source": [
        "#1 tez = 1,000,000 micro tez\n",
        "def tzToMutez(tezAmount):\n",
        "    return tezAmount*1000000\n",
        "    \n",
        "def TeztoQoutput(tezAmount,tez_pool,token_pool):\n",
        "    mutezAmount = tzToMutez(tezAmount)\n",
        "    \n",
        "    tezInWithFee = mutezAmount*997\n",
        "    \n",
        "    numerator = tezInWithFee*token_pool\n",
        "    \n",
        "    denominator = tez_pool * 1000 + tezInWithFee\n",
        "    \n",
        "    tokensOut = numerator/denominator\n",
        "\n",
        "    return tokensOut/(10*10*10*10*10*10)"
      ],
      "metadata": {
        "id": "3XJhkd1GAUNa"
      },
      "execution_count": null,
      "outputs": []
    },
    {
      "cell_type": "markdown",
      "source": [
        "Let's calculate the rate"
      ],
      "metadata": {
        "id": "WrOsLgGSBT-H"
      }
    },
    {
      "cell_type": "code",
      "source": [
        "def ex_rate_tq(amount):\n",
        "    return (amount)/TeztoQoutput(amount)\n",
        "\n",
        "def pair(qcontract,scontract,tezAmount):\n",
        "    q_tez_pool,q_token_pool = Qpools(qcontract)\n",
        "    q=TeztoQoutput(tezAmount,q_tez_pool,q_token_pool)\n",
        "    print(\"Quipu_rate: \",q)\n",
        "    s_tez_pool,s_token_pool = Spools(scontract)\n",
        "    s=TeztoQoutput(tezAmount,s_tez_pool,s_token_pool)\n",
        "    print(\"Spicy_rate: \",s)"
      ],
      "metadata": {
        "id": "QIHaZzHUBOt0"
      },
      "execution_count": null,
      "outputs": []
    },
    {
      "cell_type": "markdown",
      "source": [
        "Let's add the calculation of the reverse rate on the exchange and see the possible profit"
      ],
      "metadata": {
        "id": "SLOb7xTkB_gn"
      }
    },
    {
      "cell_type": "code",
      "source": [
        "def pair(qcontract,scontract,tezAmount):\n",
        "    q_tez_pool,q_token_pool = Qpools(qcontract)\n",
        "    q=TeztoQoutput(tezAmount,q_tez_pool,q_token_pool)\n",
        "    print(\"Quipu_rate: \",q)\n",
        "    s_tez_pool,s_token_pool = Spools(scontract)\n",
        "    s=TeztoQoutput(tezAmount,s_tez_pool,s_token_pool)\n",
        "    print(\"Spicy_rate: \",s)\n",
        "    #Exchange rate\n",
        "    reverseSpicy = tezAmount/s\n",
        "    print(\"Spicy reverse: \", reverseSpicy)\n",
        "    print(tezAmount - tezAmount*q*reverseSpicy)\n"
      ],
      "metadata": {
        "id": "y2AXRG4ABns4"
      },
      "execution_count": null,
      "outputs": []
    },
    {
      "cell_type": "markdown",
      "source": [
        "\n",
        "# Important!!! \n",
        "Transactional fees are not included"
      ],
      "metadata": {
        "id": "cHk8DpYECoCG"
      }
    },
    {
      "cell_type": "code",
      "source": [
        "qcontract=\"KT1X3zxdTzPB9DgVzA3ad6dgZe9JEamoaeRy\"\n",
        "scontract=\"KT1VLvdV1u268eVzBFEFr72JgEKhq2MU6NqJ\"\n",
        "tezAmount= 1\n",
        "pair(qcontract,scontract,tezAmount)"
      ],
      "metadata": {
        "colab": {
          "base_uri": "https://localhost:8080/"
        },
        "id": "8emeElWDCKRn",
        "outputId": "d9312655-dfa8-47e6-955a-7ef481b2598a"
      },
      "execution_count": null,
      "outputs": [
        {
          "output_type": "stream",
          "name": "stdout",
          "text": [
            "Quipu_rate:  1.7600589249150516\n",
            "Spicy_rate:  1.7815362858469792\n",
            "Spicy reverse:  0.5613132934446964\n",
            "0.01205552819920086\n"
          ]
        }
      ]
    },
    {
      "cell_type": "markdown",
      "source": [
        "## Task1 \n",
        "Since transactional fees are not included your goal will be extend the pair function so that it also takes into account transaction costs"
      ],
      "metadata": {
        "id": "7mue3SHzDA7H"
      }
    }
  ]
}